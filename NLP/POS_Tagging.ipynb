{
 "cells": [
  {
   "cell_type": "code",
   "execution_count": 1,
   "metadata": {},
   "outputs": [
    {
     "name": "stdout",
     "output_type": "stream",
     "text": [
      "['Hello', 'there', ',', 'how', 'are', 'you', '?', 'Weather', 'is', 'awesome', '.', 'Its', 'raining', 'here', 'now', '.', 'Hello', 'Mr.', 'Raja', ',', 'how', 'are', 'you', '?', 'Weather', 'is', 'awesome', '.', 'Its', 'raining', 'here', 'now', '.', 'Hello', 'Mr.', 'Raja', ',', 'how', 'are', 'you', '.', 'Weather', 'is', 'bad', '.', 'Its', 'heavily', 'raining', 'here', 'now', '.', 'NLP', 'is', 'great', 'technique', '.', 'It', 'is', 'nice', 'to', 'learn', 'this', 'technique', '.', 'AI', 'is', 'making', 'difference', 'in', 'this', 'world', 'now', '.', 'It', 'would', 'be', 'helpful', 'for', 'betterment', 'of', 'human', 'life', '.', 'We', 'need', 'to', 'make', 'advantage', 'of', 'that', '.']\n"
     ]
    }
   ],
   "source": [
    "import pandas as pd\n",
    "import nltk\n",
    "\n",
    "file = open(\"NLPdataEx3&4-data_in.txt\",\"r\")\n",
    "raw = file.read()\n",
    "\n",
    "word_tokens = nltk.word_tokenize(raw)\n",
    "print(word_tokens)"
   ]
  },
  {
   "cell_type": "code",
   "execution_count": 2,
   "metadata": {},
   "outputs": [
    {
     "name": "stdout",
     "output_type": "stream",
     "text": [
      "{'is', 'Its', 'making', 'this', 'nice', 'great', 'Weather', 'It', 'technique', 'Mr', 'now', 'AI', 'advantage', 'here', 'difference', 'of', 'there', 'bad', 'how', 'are', 'world', 'life', 'would', 'be', 'We', 'need', 'to', 'helpful', 'Raja', 'betterment', 'human', 'heavily', 'in', 'for', 'make', 'Hello', 'you', 'awesome', 'raining', 'NLP', 'learn', 'that'}\n"
     ]
    }
   ],
   "source": [
    "from nltk.tokenize import RegexpTokenizer\n",
    "tokenizer = RegexpTokenizer(r'\\w+')\n",
    "words = tokenizer.tokenize(raw)\n",
    "words = set(words)\n",
    "print(words)"
   ]
  },
  {
   "cell_type": "code",
   "execution_count": 3,
   "metadata": {},
   "outputs": [
    {
     "name": "stdout",
     "output_type": "stream",
     "text": [
      "[nltk_data] Downloading package averaged_perceptron_tagger to\n",
      "[nltk_data]     C:\\Users\\indranil\\AppData\\Roaming\\nltk_data...\n",
      "[nltk_data]   Package averaged_perceptron_tagger is already up-to-\n",
      "[nltk_data]       date!\n"
     ]
    },
    {
     "data": {
      "text/plain": [
       "True"
      ]
     },
     "execution_count": 3,
     "metadata": {},
     "output_type": "execute_result"
    }
   ],
   "source": [
    "from nltk.tag import pos_tag\n",
    "# nltk.download('averaged_perceptron_tagger')\n",
    "\n"
   ]
  },
  {
   "cell_type": "code",
   "execution_count": 4,
   "metadata": {},
   "outputs": [],
   "source": [
    "pos_tagged = pos_tag(words)\n"
   ]
  },
  {
   "cell_type": "code",
   "execution_count": 7,
   "metadata": {},
   "outputs": [
    {
     "name": "stdout",
     "output_type": "stream",
     "text": [
      "(S\n",
      "  is/VBZ\n",
      "  Its/PRP$\n",
      "  making/VBG\n",
      "  this/DT\n",
      "  nice/JJ\n",
      "  great/JJ\n",
      "  Weather/IN\n",
      "  It/PRP\n",
      "  technique/VBZ\n",
      "  Mr/NNP\n",
      "  now/RB\n",
      "  AI/NNP\n",
      "  advantage/NN\n",
      "  here/RB\n",
      "  difference/NN\n",
      "  of/IN\n",
      "  there/RB\n",
      "  bad/JJ\n",
      "  how/WRB\n",
      "  are/VBP\n",
      "  world/NN\n",
      "  life/NN\n",
      "  would/MD\n",
      "  be/VB\n",
      "  We/PRP\n",
      "  need/VBP\n",
      "  to/TO\n",
      "  helpful/VB\n",
      "  (PERSON Raja/NNP)\n",
      "  betterment/NN\n",
      "  human/JJ\n",
      "  heavily/RB\n",
      "  in/IN\n",
      "  for/IN\n",
      "  make/NN\n",
      "  Hello/NNP\n",
      "  you/PRP\n",
      "  awesome/VBP\n",
      "  raining/VBG\n",
      "  (ORGANIZATION NLP/NNP)\n",
      "  learn/NN\n",
      "  that/WDT)\n"
     ]
    }
   ],
   "source": [
    "chunk_sentence = nltk.ne_chunk(pos_tagged)\n",
    "print (chunk_sentence)\n",
    "chunk_sentence.draw()"
   ]
  },
  {
   "cell_type": "code",
   "execution_count": null,
   "metadata": {},
   "outputs": [],
   "source": []
  }
 ],
 "metadata": {
  "kernelspec": {
   "display_name": "Python 3",
   "language": "python",
   "name": "python3"
  },
  "language_info": {
   "codemirror_mode": {
    "name": "ipython",
    "version": 3
   },
   "file_extension": ".py",
   "mimetype": "text/x-python",
   "name": "python",
   "nbconvert_exporter": "python",
   "pygments_lexer": "ipython3",
   "version": "3.6.4"
  }
 },
 "nbformat": 4,
 "nbformat_minor": 2
}
