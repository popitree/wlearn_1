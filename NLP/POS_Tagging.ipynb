{
 "cells": [
  {
   "cell_type": "code",
   "execution_count": 1,
   "metadata": {},
   "outputs": [
    {
     "name": "stdout",
     "output_type": "stream",
     "text": [
      "['Hello', 'there', ',', 'how', 'are', 'you', '?', 'Weather', 'is', 'awesome', '.', 'Its', 'raining', 'here', 'now', '.', 'Hello', 'Mr.', 'Raja', ',', 'how', 'are', 'you', '?', 'Weather', 'is', 'awesome', '.', 'Its', 'raining', 'here', 'now', '.', 'Hello', 'Mr.', 'Raja', ',', 'how', 'are', 'you', '.', 'Weather', 'is', 'bad', '.', 'Its', 'heavily', 'raining', 'here', 'now', '.', 'NLP', 'is', 'great', 'technique', '.', 'It', 'is', 'nice', 'to', 'learn', 'this', 'technique', '.', 'AI', 'is', 'making', 'difference', 'in', 'this', 'world', 'now', '.', 'It', 'would', 'be', 'helpful', 'for', 'betterment', 'of', 'human', 'life', '.', 'We', 'need', 'to', 'make', 'advantage', 'of', 'that', '.']\n"
     ]
    }
   ],
   "source": [
    "import pandas as pd\n",
    "import nltk\n",
    "\n",
    "file = open(\"NLPdataEx3&4-data_in.txt\",\"r\")\n",
    "raw = file.read()\n",
    "\n",
    "word_tokens = nltk.word_tokenize(raw)\n",
    "print(word_tokens)"
   ]
  },
  {
   "cell_type": "code",
   "execution_count": 2,
   "metadata": {},
   "outputs": [
    {
     "name": "stdout",
     "output_type": "stream",
     "text": [
      "{'making', 'this', 'It', 'Raja', 'Hello', 'to', 'difference', 'make', 'bad', 'human', 'world', 'We', 'you', 'is', 'NLP', 'here', 'that', 'betterment', 'life', 'are', 'learn', 'helpful', 'Weather', 'nice', 'need', 'advantage', 'Mr', 'be', 'in', 'how', 'heavily', 'of', 'Its', 'awesome', 'would', 'great', 'there', 'now', 'for', 'AI', 'technique', 'raining'}\n"
     ]
    }
   ],
   "source": [
    "from nltk.tokenize import RegexpTokenizer\n",
    "tokenizer = RegexpTokenizer(r'\\w+')\n",
    "words = tokenizer.tokenize(raw)\n",
    "words = set(words)\n",
    "print(words)"
   ]
  },
  {
   "cell_type": "code",
   "execution_count": 3,
   "metadata": {},
   "outputs": [],
   "source": [
    "from nltk.tag import pos_tag\n",
    "#nltk.download('averaged_perceptron_tagger')\n",
    "\n"
   ]
  },
  {
   "cell_type": "code",
   "execution_count": 8,
   "metadata": {},
   "outputs": [],
   "source": [
    "pos_tagged = pos_tag(words)"
   ]
  },
  {
   "cell_type": "code",
   "execution_count": 9,
   "metadata": {},
   "outputs": [
    {
     "data": {
      "text/plain": [
       "{'DT',\n",
       " 'IN',\n",
       " 'JJ',\n",
       " 'MD',\n",
       " 'NN',\n",
       " 'NNP',\n",
       " 'PRP',\n",
       " 'PRP$',\n",
       " 'RB',\n",
       " 'TO',\n",
       " 'VB',\n",
       " 'VBG',\n",
       " 'VBP',\n",
       " 'VBZ',\n",
       " 'WRB'}"
      ]
     },
     "execution_count": 9,
     "metadata": {},
     "output_type": "execute_result"
    }
   ],
   "source": [
    "set([x[1] for x in pos_tagged])\n"
   ]
  },
  {
   "cell_type": "code",
   "execution_count": 5,
   "metadata": {},
   "outputs": [
    {
     "name": "stdout",
     "output_type": "stream",
     "text": [
      "(S\n",
      "  making/VBG\n",
      "  this/DT\n",
      "  It/PRP\n",
      "  (PERSON Raja/NNP Hello/NNP)\n",
      "  to/TO\n",
      "  difference/NN\n",
      "  make/VB\n",
      "  bad/JJ\n",
      "  human/JJ\n",
      "  world/NN\n",
      "  We/PRP\n",
      "  you/PRP\n",
      "  is/VBZ\n",
      "  (ORGANIZATION NLP/NNP)\n",
      "  here/RB\n",
      "  that/IN\n",
      "  betterment/JJ\n",
      "  life/NN\n",
      "  are/VBP\n",
      "  learn/JJ\n",
      "  helpful/JJ\n",
      "  Weather/NNP\n",
      "  nice/JJ\n",
      "  need/NN\n",
      "  advantage/NN\n",
      "  Mr/NNP\n",
      "  be/VB\n",
      "  in/IN\n",
      "  how/WRB\n",
      "  heavily/RB\n",
      "  of/IN\n",
      "  Its/PRP$\n",
      "  awesome/NN\n",
      "  would/MD\n",
      "  great/JJ\n",
      "  there/RB\n",
      "  now/RB\n",
      "  for/IN\n",
      "  (ORGANIZATION AI/NNP)\n",
      "  technique/NN\n",
      "  raining/VBG)\n"
     ]
    }
   ],
   "source": [
    "chunk_sentence = nltk.ne_chunk(pos_tagged)\n",
    "print (chunk_sentence)"
   ]
  },
  {
   "cell_type": "code",
   "execution_count": 6,
   "metadata": {},
   "outputs": [],
   "source": [
    "chunk_sentence.draw()"
   ]
  }
 ],
 "metadata": {
  "kernelspec": {
   "display_name": "Python 3",
   "language": "python",
   "name": "python3"
  },
  "language_info": {
   "codemirror_mode": {
    "name": "ipython",
    "version": 3
   },
   "file_extension": ".py",
   "mimetype": "text/x-python",
   "name": "python",
   "nbconvert_exporter": "python",
   "pygments_lexer": "ipython3",
   "version": "3.6.4"
  }
 },
 "nbformat": 4,
 "nbformat_minor": 2
}
