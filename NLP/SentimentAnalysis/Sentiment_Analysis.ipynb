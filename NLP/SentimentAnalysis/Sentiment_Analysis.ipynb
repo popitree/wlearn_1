{
 "cells": [
  {
   "cell_type": "code",
   "execution_count": 1,
   "metadata": {},
   "outputs": [
    {
     "data": {
      "text/plain": [
       "['nice',\n",
       " 'excellent',\n",
       " 'good',\n",
       " 'wonderful',\n",
       " 'best',\n",
       " 'better',\n",
       " 'awesome',\n",
       " 'beautiful',\n",
       " 'beauty',\n",
       " 'beautifully',\n",
       " 'supreme']"
      ]
     },
     "execution_count": 1,
     "metadata": {},
     "output_type": "execute_result"
    }
   ],
   "source": [
    "import nltk\n",
    "import string\n",
    "from nltk.corpus import stopwords\n",
    "from nltk.tokenize import word_tokenize\n",
    "\n",
    "fileDict = open(\"NLPdataEx5dict.txt\",\"r\")\n",
    "fileParagraph = open(\"NLPdataEx5data_senti_analyze.txt\",\"r\")\n",
    "\n",
    "# paragraph cleaning \n",
    "modified_stops = stopwords.words('english') + list(string.punctuation)\n",
    "\n",
    "words_in_para = [word for word in word_tokenize(fileParagraph.read()) if word not in modified_stops]\n",
    "\n",
    "lines = fileDict.readlines()\n",
    "for line in lines:\n",
    "    exec(line)\n",
    "pos_words"
   ]
  },
  {
   "cell_type": "code",
   "execution_count": 2,
   "metadata": {},
   "outputs": [
    {
     "data": {
      "text/plain": [
       "['hate', 'hatred', 'annoyed', 'annoy', 'annoyingly', 'nasty']"
      ]
     },
     "execution_count": 2,
     "metadata": {},
     "output_type": "execute_result"
    }
   ],
   "source": [
    "neg_words"
   ]
  },
  {
   "cell_type": "code",
   "execution_count": 5,
   "metadata": {},
   "outputs": [
    {
     "name": "stdout",
     "output_type": "stream",
     "text": [
      "Positive Review Score: 6, Positive Sentiment: 54.55%\n",
      "Negative Review Score: 5, Negative Sentiment: 45.45%\n"
     ]
    }
   ],
   "source": [
    "pos_score = 0\n",
    "neg_score = 0\n",
    "\n",
    "for word in words_in_para:\n",
    "    pos_score += word in pos_words\n",
    "    neg_score += word in neg_words\n",
    "    \n",
    "print(\"Positive Review Score: {}, Positive Sentiment: {:3.2f}%\".format(pos_score, 100*pos_score/(pos_score+neg_score)))  \n",
    "print(\"Negative Review Score: {}, Negative Sentiment: {:3.2f}%\".format(neg_score, 100*neg_score/(pos_score+neg_score)))  "
   ]
  },
  {
   "cell_type": "code",
   "execution_count": 6,
   "metadata": {},
   "outputs": [
    {
     "data": {
      "text/plain": [
       "['Rose',\n",
       " 'beautiful',\n",
       " 'Place',\n",
       " 'nasty',\n",
       " 'stay',\n",
       " 'This',\n",
       " 'beauty',\n",
       " 'technique',\n",
       " 'Concept',\n",
       " 'explained',\n",
       " 'beautifully',\n",
       " 'book',\n",
       " 'He',\n",
       " 'annoyed',\n",
       " 'Its',\n",
       " 'supreme',\n",
       " 'place',\n",
       " 'stay',\n",
       " 'I',\n",
       " 'hate',\n",
       " 'place',\n",
       " 'Dont',\n",
       " 'annoy',\n",
       " 'customer',\n",
       " 'He',\n",
       " 'given',\n",
       " 'nasty',\n",
       " 'comments',\n",
       " 'stay',\n",
       " 'Dessert',\n",
       " 'awesome',\n",
       " 'Your',\n",
       " 'gift',\n",
       " 'wonderful']"
      ]
     },
     "execution_count": 6,
     "metadata": {},
     "output_type": "execute_result"
    }
   ],
   "source": [
    "words_in_para"
   ]
  }
 ],
 "metadata": {
  "kernelspec": {
   "display_name": "Python 3",
   "language": "python",
   "name": "python3"
  },
  "language_info": {
   "codemirror_mode": {
    "name": "ipython",
    "version": 3
   },
   "file_extension": ".py",
   "mimetype": "text/x-python",
   "name": "python",
   "nbconvert_exporter": "python",
   "pygments_lexer": "ipython3",
   "version": "3.6.4"
  }
 },
 "nbformat": 4,
 "nbformat_minor": 2
}
