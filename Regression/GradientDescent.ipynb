{
 "cells": [
  {
   "cell_type": "code",
   "execution_count": 1,
   "metadata": {},
   "outputs": [
    {
     "data": {
      "text/html": [
       "<div>\n",
       "<style scoped>\n",
       "    .dataframe tbody tr th:only-of-type {\n",
       "        vertical-align: middle;\n",
       "    }\n",
       "\n",
       "    .dataframe tbody tr th {\n",
       "        vertical-align: top;\n",
       "    }\n",
       "\n",
       "    .dataframe thead th {\n",
       "        text-align: right;\n",
       "    }\n",
       "</style>\n",
       "<table border=\"1\" class=\"dataframe\">\n",
       "  <thead>\n",
       "    <tr style=\"text-align: right;\">\n",
       "      <th></th>\n",
       "      <th>mpg</th>\n",
       "      <th>cylinders</th>\n",
       "      <th>displacement</th>\n",
       "      <th>weight</th>\n",
       "      <th>acceleration</th>\n",
       "      <th>model_year</th>\n",
       "      <th>origin</th>\n",
       "    </tr>\n",
       "  </thead>\n",
       "  <tbody>\n",
       "    <tr>\n",
       "      <th>count</th>\n",
       "      <td>398.000000</td>\n",
       "      <td>398.000000</td>\n",
       "      <td>398.000000</td>\n",
       "      <td>398.000000</td>\n",
       "      <td>398.000000</td>\n",
       "      <td>398.000000</td>\n",
       "      <td>398.000000</td>\n",
       "    </tr>\n",
       "    <tr>\n",
       "      <th>mean</th>\n",
       "      <td>23.514573</td>\n",
       "      <td>5.454774</td>\n",
       "      <td>193.425879</td>\n",
       "      <td>2970.424623</td>\n",
       "      <td>15.568090</td>\n",
       "      <td>76.010050</td>\n",
       "      <td>1.572864</td>\n",
       "    </tr>\n",
       "    <tr>\n",
       "      <th>std</th>\n",
       "      <td>7.815984</td>\n",
       "      <td>1.701004</td>\n",
       "      <td>104.269838</td>\n",
       "      <td>846.841774</td>\n",
       "      <td>2.757689</td>\n",
       "      <td>3.697627</td>\n",
       "      <td>0.802055</td>\n",
       "    </tr>\n",
       "    <tr>\n",
       "      <th>min</th>\n",
       "      <td>9.000000</td>\n",
       "      <td>3.000000</td>\n",
       "      <td>68.000000</td>\n",
       "      <td>1613.000000</td>\n",
       "      <td>8.000000</td>\n",
       "      <td>70.000000</td>\n",
       "      <td>1.000000</td>\n",
       "    </tr>\n",
       "    <tr>\n",
       "      <th>25%</th>\n",
       "      <td>17.500000</td>\n",
       "      <td>4.000000</td>\n",
       "      <td>104.250000</td>\n",
       "      <td>2223.750000</td>\n",
       "      <td>13.825000</td>\n",
       "      <td>73.000000</td>\n",
       "      <td>1.000000</td>\n",
       "    </tr>\n",
       "    <tr>\n",
       "      <th>50%</th>\n",
       "      <td>23.000000</td>\n",
       "      <td>4.000000</td>\n",
       "      <td>148.500000</td>\n",
       "      <td>2803.500000</td>\n",
       "      <td>15.500000</td>\n",
       "      <td>76.000000</td>\n",
       "      <td>1.000000</td>\n",
       "    </tr>\n",
       "    <tr>\n",
       "      <th>75%</th>\n",
       "      <td>29.000000</td>\n",
       "      <td>8.000000</td>\n",
       "      <td>262.000000</td>\n",
       "      <td>3608.000000</td>\n",
       "      <td>17.175000</td>\n",
       "      <td>79.000000</td>\n",
       "      <td>2.000000</td>\n",
       "    </tr>\n",
       "    <tr>\n",
       "      <th>max</th>\n",
       "      <td>46.600000</td>\n",
       "      <td>8.000000</td>\n",
       "      <td>455.000000</td>\n",
       "      <td>5140.000000</td>\n",
       "      <td>24.800000</td>\n",
       "      <td>82.000000</td>\n",
       "      <td>3.000000</td>\n",
       "    </tr>\n",
       "  </tbody>\n",
       "</table>\n",
       "</div>"
      ],
      "text/plain": [
       "              mpg   cylinders  displacement       weight  acceleration  \\\n",
       "count  398.000000  398.000000    398.000000   398.000000    398.000000   \n",
       "mean    23.514573    5.454774    193.425879  2970.424623     15.568090   \n",
       "std      7.815984    1.701004    104.269838   846.841774      2.757689   \n",
       "min      9.000000    3.000000     68.000000  1613.000000      8.000000   \n",
       "25%     17.500000    4.000000    104.250000  2223.750000     13.825000   \n",
       "50%     23.000000    4.000000    148.500000  2803.500000     15.500000   \n",
       "75%     29.000000    8.000000    262.000000  3608.000000     17.175000   \n",
       "max     46.600000    8.000000    455.000000  5140.000000     24.800000   \n",
       "\n",
       "       model_year      origin  \n",
       "count  398.000000  398.000000  \n",
       "mean    76.010050    1.572864  \n",
       "std      3.697627    0.802055  \n",
       "min     70.000000    1.000000  \n",
       "25%     73.000000    1.000000  \n",
       "50%     76.000000    1.000000  \n",
       "75%     79.000000    2.000000  \n",
       "max     82.000000    3.000000  "
      ]
     },
     "execution_count": 1,
     "metadata": {},
     "output_type": "execute_result"
    }
   ],
   "source": [
    "import pandas as pd\n",
    "import matplotlib.pyplot as plt\n",
    "import numpy as np\n",
    "%matplotlib inline\n",
    "\n",
    "colNames = [\"mpg\", \"cylinders\", \"displacement\", \"horsepower\", \"weight\", \"acceleration\", \"model_year\", \"origin\", \"car_name\" ]\n",
    "car_data = pd.read_table(\"auto-mpg.data\",names=colNames, delim_whitespace = True)\n",
    "car_data.drop([\"car_name\"], inplace=True, axis=1)\n",
    "car_data.describe()\n"
   ]
  },
  {
   "cell_type": "code",
   "execution_count": 2,
   "metadata": {},
   "outputs": [
    {
     "data": {
      "text/plain": [
       "mpg             float64\n",
       "cylinders         int64\n",
       "displacement    float64\n",
       "horsepower       object\n",
       "weight          float64\n",
       "acceleration    float64\n",
       "model_year        int64\n",
       "origin            int64\n",
       "dtype: object"
      ]
     },
     "execution_count": 2,
     "metadata": {},
     "output_type": "execute_result"
    }
   ],
   "source": [
    "car_data.dtypes"
   ]
  },
  {
   "cell_type": "code",
   "execution_count": 3,
   "metadata": {},
   "outputs": [],
   "source": [
    "# Selecting MilesPerGallon (mpg) as Target and Accelaration as Feature variable\n",
    "model_points = pd.DataFrame(data=car_data, columns=[\"mpg\", \"acceleration\"])"
   ]
  },
  {
   "cell_type": "code",
   "execution_count": 4,
   "metadata": {},
   "outputs": [
    {
     "data": {
      "text/html": [
       "<div>\n",
       "<style scoped>\n",
       "    .dataframe tbody tr th:only-of-type {\n",
       "        vertical-align: middle;\n",
       "    }\n",
       "\n",
       "    .dataframe tbody tr th {\n",
       "        vertical-align: top;\n",
       "    }\n",
       "\n",
       "    .dataframe thead th {\n",
       "        text-align: right;\n",
       "    }\n",
       "</style>\n",
       "<table border=\"1\" class=\"dataframe\">\n",
       "  <thead>\n",
       "    <tr style=\"text-align: right;\">\n",
       "      <th></th>\n",
       "      <th>mpg</th>\n",
       "      <th>acceleration</th>\n",
       "    </tr>\n",
       "  </thead>\n",
       "  <tbody>\n",
       "    <tr>\n",
       "      <th>0</th>\n",
       "      <td>18.0</td>\n",
       "      <td>12.0</td>\n",
       "    </tr>\n",
       "    <tr>\n",
       "      <th>1</th>\n",
       "      <td>15.0</td>\n",
       "      <td>11.5</td>\n",
       "    </tr>\n",
       "    <tr>\n",
       "      <th>2</th>\n",
       "      <td>18.0</td>\n",
       "      <td>11.0</td>\n",
       "    </tr>\n",
       "    <tr>\n",
       "      <th>3</th>\n",
       "      <td>16.0</td>\n",
       "      <td>12.0</td>\n",
       "    </tr>\n",
       "    <tr>\n",
       "      <th>4</th>\n",
       "      <td>17.0</td>\n",
       "      <td>10.5</td>\n",
       "    </tr>\n",
       "  </tbody>\n",
       "</table>\n",
       "</div>"
      ],
      "text/plain": [
       "    mpg  acceleration\n",
       "0  18.0          12.0\n",
       "1  15.0          11.5\n",
       "2  18.0          11.0\n",
       "3  16.0          12.0\n",
       "4  17.0          10.5"
      ]
     },
     "execution_count": 4,
     "metadata": {},
     "output_type": "execute_result"
    }
   ],
   "source": [
    "model_points.head()"
   ]
  },
  {
   "cell_type": "code",
   "execution_count": 5,
   "metadata": {},
   "outputs": [],
   "source": [
    "data_points= model_points.reset_index().values"
   ]
  },
  {
   "cell_type": "code",
   "execution_count": 6,
   "metadata": {},
   "outputs": [],
   "source": [
    "def gradient_descent_runner(data_points, initial_slope, initial_intercept, learning_rate, total_iteration):\n",
    "    m = initial_slope\n",
    "    c = initial_intercept\n",
    "    mse_list = []\n",
    "    for i in range(total_iteration):\n",
    "        m, c = gradient_descent_step(data_points, m, c, learning_rate)\n",
    "        mse_list.append(mean_squared_error(data_points, m, c))\n",
    "    min_error =    min(mse_list) \n",
    "    print(\"=\"*40)\n",
    "    print(\"MinError: {} At: {}\".format(min_error,mse_list.index(min_error)))\n",
    "    print(\"=\"*40)\n",
    "    return [m, c]\n"
   ]
  },
  {
   "cell_type": "code",
   "execution_count": 18,
   "metadata": {},
   "outputs": [],
   "source": [
    "def gradient_descent_step(data_points, m, c, learning_rate):\n",
    "    slope_part = 0.0\n",
    "    intercept_part = 0.0\n",
    "    N = float(len(data_points))\n",
    "    for i in data_points:\n",
    "        # y = mx + c\n",
    "        x = i[2]\n",
    "        y = i[1]\n",
    "        y_calc = m*x+c\n",
    "        slope_part += (y_calc - y)*x\n",
    "        intercept_part += (y_calc - y)\n",
    "        \n",
    "    new_m = m -  2*(learning_rate/N)*slope_part\n",
    "    new_c = c - 2*(learning_rate/N)*intercept_part \n",
    "    \n",
    "    return [new_m, new_c]    \n",
    "    "
   ]
  },
  {
   "cell_type": "code",
   "execution_count": 8,
   "metadata": {},
   "outputs": [],
   "source": [
    "def mean_squared_error(data_points, m, c):\n",
    "    total_error = 0\n",
    "    for i in data_points:\n",
    "        \n",
    "        x = i[2]\n",
    "        y_original = i[1]        \n",
    "        y_calculated = m*x+c\n",
    "        \n",
    "        total_error += (y_calculated - y_original)**2\n",
    "    \n",
    "    return total_error/float(len(data_points))\n",
    "        "
   ]
  },
  {
   "cell_type": "code",
   "execution_count": 9,
   "metadata": {},
   "outputs": [
    {
     "data": {
      "text/plain": [
       "array([[ 0. , 18. , 12. ],\n",
       "       [ 1. , 15. , 11.5],\n",
       "       [ 2. , 18. , 11. ],\n",
       "       [ 3. , 16. , 12. ],\n",
       "       [ 4. , 17. , 10.5],\n",
       "       [ 5. , 15. , 10. ],\n",
       "       [ 6. , 14. ,  9. ],\n",
       "       [ 7. , 14. ,  8.5],\n",
       "       [ 8. , 14. , 10. ],\n",
       "       [ 9. , 15. ,  8.5]])"
      ]
     },
     "execution_count": 9,
     "metadata": {},
     "output_type": "execute_result"
    }
   ],
   "source": [
    "data_points[:10]"
   ]
  },
  {
   "cell_type": "code",
   "execution_count": 19,
   "metadata": {},
   "outputs": [
    {
     "name": "stdout",
     "output_type": "stream",
     "text": [
      "At Start:\n",
      "Slope: 0\n",
      "Intercept: 0\n",
      "MSE: 613.8712562814071\n",
      "========================================\n",
      "MinError: 50.8852731718681 At: 999\n",
      "========================================\n",
      "\n",
      "After loop\n",
      "========================================\n",
      "Slope: 1.4931509862180814\n",
      "Intercept: 0.12252253313266277\n",
      "MSE: 50.8852731718681\n"
     ]
    }
   ],
   "source": [
    "learning_rate = 0.0001\n",
    "num_iteration = 1000\n",
    "\n",
    "print(\"At Start:\\nSlope: {}\\nIntercept: {}\\nMSE: {}\".format(0, 0, mean_squared_error(data_points, 0, 0)))\n",
    "\n",
    "# print(\"At Start:\\nSlope: {}\\nIntercept: {}\\nMSE: {}\".format(1.12,6.01, mean_squared_error(data_points, 40.3623236,23.00744078)))\n",
    "[slope, intercept] = gradient_descent_runner(data_points, 0 , 0, learning_rate, num_iteration)\n",
    "print(\"\\nAfter loop\")\n",
    "print(\"=\"*40)\n",
    "print(\"Slope: {}\\nIntercept: {}\\nMSE: {}\".format(slope, intercept, mean_squared_error(data_points, slope, intercept)))"
   ]
  },
  {
   "cell_type": "code",
   "execution_count": 52,
   "metadata": {},
   "outputs": [
    {
     "data": {
      "image/png": "[encoded data removed]",
      "text/plain": [
       "<matplotlib.figure.Figure at 0x137b10b0>"
      ]
     },
     "metadata": {},
     "output_type": "display_data"
    }
   ],
   "source": [
    "predicted_y = slope*model_points.acceleration+intercept\n",
    "\n",
    "plt.scatter(model_points.acceleration,new_df.mpg, color='green')\n",
    "plt.scatter(model_points.acceleration,predicted_y, color='black')\n",
    "\n",
    "plt.show()    "
   ]
  },
  {
   "cell_type": "code",
   "execution_count": 53,
   "metadata": {},
   "outputs": [
    {
     "data": {
      "image/png": "[encoded data removed]",
      "text/plain": [
       "<matplotlib.figure.Figure at 0x1376b410>"
      ]
     },
     "metadata": {},
     "output_type": "display_data"
    }
   ],
   "source": [
    "predicted_y = slope*model_points.acceleration+intercept\n",
    "\n",
    "plt.scatter(predicted_y,predicted_y-model_points.mpg)\n",
    "plt.axhline(y=0, color='r', linestyle='--')\n",
    "plt.show()"
   ]
  },
  {
   "cell_type": "code",
   "execution_count": 20,
   "metadata": {},
   "outputs": [],
   "source": [
    "# feature scaling for acceleration\n",
    "\n",
    "new_df = model_points.copy(deep=True)\n",
    "\n",
    "mean_acceleartion = np.mean(model_points.acceleration)\n",
    "max_acceleration = max(model_points.acceleration)\n",
    "min_acceleration = min(model_points.acceleration)\n",
    "\n",
    "new_df.acceleration = (model_points.acceleration - mean_acceleartion)/(max_acceleration - min_acceleration)"
   ]
  },
  {
   "cell_type": "code",
   "execution_count": 21,
   "metadata": {},
   "outputs": [],
   "source": [
    "data_points_new= new_df.reset_index().values"
   ]
  },
  {
   "cell_type": "code",
   "execution_count": 22,
   "metadata": {},
   "outputs": [
    {
     "name": "stdout",
     "output_type": "stream",
     "text": [
      "At Start:\n",
      "Slope: 0\n",
      "Intercept: 0\n",
      "MSE: 613.8712562814071\n",
      "========================================\n",
      "MinError: 50.17219440770129 At: 376\n",
      "========================================\n",
      "\n",
      "After loop\n",
      "========================================\n",
      "Slope: 1.4931509862180814\n",
      "Intercept: 0.12252253313266277\n",
      "MSE: 50.17219440770134\n"
     ]
    }
   ],
   "source": [
    "learning_rate_new = 0.93\n",
    "num_iteration_new = 400\n",
    "\n",
    "print(\"At Start:\\nSlope: {}\\nIntercept: {}\\nMSE: {}\".format(0, 0, mean_squared_error(data_points_new, 0, 0)))\n",
    "\n",
    "# print(\"At Start:\\nSlope: {}\\nIntercept: {}\\nMSE: {}\".format(1.12,6.01, mean_squared_error(data_points, 40.3623236,23.00744078)))\n",
    "[slope_new, intercept_new] = gradient_descent_runner(data_points_new, 0 , 0, learning_rate_new, num_iteration_new)\n",
    "print(\"\\nAfter loop\")\n",
    "print(\"=\"*40)\n",
    "print(\"Slope: {}\\nIntercept: {}\\nMSE: {}\".format(slope, intercept, mean_squared_error(data_points_new, slope_new, intercept_new)))"
   ]
  },
  {
   "cell_type": "code",
   "execution_count": 15,
   "metadata": {},
   "outputs": [],
   "source": [
    "# With feature scaling and new learning rate gradient descent convergence was faster with negligible improvement in MSE error"
   ]
  },
  {
   "cell_type": "code",
   "execution_count": 38,
   "metadata": {},
   "outputs": [
    {
     "data": {
      "image/png": "[encoded data removed]",
      "text/plain": [
       "<matplotlib.figure.Figure at 0x1360dc70>"
      ]
     },
     "metadata": {},
     "output_type": "display_data"
    }
   ],
   "source": [
    "predicted_value = slope_new*new_df.acceleration+intercept_new\n",
    "\n",
    "plt.scatter(new_df.acceleration,new_df.mpg, color='green')\n",
    "plt.scatter(new_df.acceleration,predicted_value, color='black')\n",
    "\n",
    "plt.show()\n"
   ]
  },
  {
   "cell_type": "code",
   "execution_count": 40,
   "metadata": {},
   "outputs": [
    {
     "data": {
      "image/png": "[encoded data removed]",
      "text/plain": [
       "<matplotlib.figure.Figure at 0x11e18850>"
      ]
     },
     "metadata": {},
     "output_type": "display_data"
    }
   ],
   "source": [
    "# Residual data plot\n",
    "plt.scatter(predicted_value, predicted_value - new_df.mpg)\n",
    "plt.axhline(y=0, color='r', linestyle='--')\n",
    "plt.show()"
   ]
  },
  {
   "cell_type": "code",
   "execution_count": 44,
   "metadata": {},
   "outputs": [
    {
     "data": {
      "image/png": "[encoded data removed]",
      "text/plain": [
       "<matplotlib.figure.Figure at 0x11ed1fb0>"
      ]
     },
     "metadata": {},
     "output_type": "display_data"
    }
   ],
   "source": [
    "(predicted_value - new_df.mpg).hist()\n",
    "plt.show()"
   ]
  },
  {
   "cell_type": "code",
   "execution_count": null,
   "metadata": {},
   "outputs": [],
   "source": []
  }
 ],
 "metadata": {
  "kernelspec": {
   "display_name": "Python 3",
   "language": "python",
   "name": "python3"
  },
  "language_info": {
   "codemirror_mode": {
    "name": "ipython",
    "version": 3
   },
   "file_extension": ".py",
   "mimetype": "text/x-python",
   "name": "python",
   "nbconvert_exporter": "python",
   "pygments_lexer": "ipython3",
   "version": "3.6.4"
  }
 },
 "nbformat": 4,
 "nbformat_minor": 2
}
